{
 "cells": [
  {
   "cell_type": "code",
   "execution_count": 6,
   "metadata": {},
   "outputs": [
    {
     "name": "stdout",
     "output_type": "stream",
     "text": [
      "C:/Users/Mayuri Gupta/cvpr2019_Pyramid-Feature-Attention-Network-for-Saliency-detection-master/Train Images/Original Images\\img0.jpg\n",
      "C:/Users/Mayuri Gupta/cvpr2019_Pyramid-Feature-Attention-Network-for-Saliency-detection-master/Train Images/Original Images\\img1.jpg\n",
      "C:/Users/Mayuri Gupta/cvpr2019_Pyramid-Feature-Attention-Network-for-Saliency-detection-master/Train Images/Original Images\\img10.jpg\n",
      "C:/Users/Mayuri Gupta/cvpr2019_Pyramid-Feature-Attention-Network-for-Saliency-detection-master/Train Images/Original Images\\img11.jpg\n",
      "C:/Users/Mayuri Gupta/cvpr2019_Pyramid-Feature-Attention-Network-for-Saliency-detection-master/Train Images/Original Images\\img12.jpg\n",
      "C:/Users/Mayuri Gupta/cvpr2019_Pyramid-Feature-Attention-Network-for-Saliency-detection-master/Train Images/Original Images\\img13.jpg\n",
      "C:/Users/Mayuri Gupta/cvpr2019_Pyramid-Feature-Attention-Network-for-Saliency-detection-master/Train Images/Original Images\\img14.jpg\n",
      "C:/Users/Mayuri Gupta/cvpr2019_Pyramid-Feature-Attention-Network-for-Saliency-detection-master/Train Images/Original Images\\img15.jpg\n",
      "C:/Users/Mayuri Gupta/cvpr2019_Pyramid-Feature-Attention-Network-for-Saliency-detection-master/Train Images/Original Images\\img16.jpg\n",
      "C:/Users/Mayuri Gupta/cvpr2019_Pyramid-Feature-Attention-Network-for-Saliency-detection-master/Train Images/Original Images\\img17.jpg\n",
      "C:/Users/Mayuri Gupta/cvpr2019_Pyramid-Feature-Attention-Network-for-Saliency-detection-master/Train Images/Original Images\\img18.jpg\n",
      "C:/Users/Mayuri Gupta/cvpr2019_Pyramid-Feature-Attention-Network-for-Saliency-detection-master/Train Images/Original Images\\img19.jpg\n",
      "C:/Users/Mayuri Gupta/cvpr2019_Pyramid-Feature-Attention-Network-for-Saliency-detection-master/Train Images/Original Images\\img2.jpg\n",
      "C:/Users/Mayuri Gupta/cvpr2019_Pyramid-Feature-Attention-Network-for-Saliency-detection-master/Train Images/Original Images\\img20.jpg\n",
      "C:/Users/Mayuri Gupta/cvpr2019_Pyramid-Feature-Attention-Network-for-Saliency-detection-master/Train Images/Original Images\\img21.jpg\n",
      "C:/Users/Mayuri Gupta/cvpr2019_Pyramid-Feature-Attention-Network-for-Saliency-detection-master/Train Images/Original Images\\img22.jpg\n",
      "C:/Users/Mayuri Gupta/cvpr2019_Pyramid-Feature-Attention-Network-for-Saliency-detection-master/Train Images/Original Images\\img23.jpg\n",
      "C:/Users/Mayuri Gupta/cvpr2019_Pyramid-Feature-Attention-Network-for-Saliency-detection-master/Train Images/Original Images\\img26.jpg\n",
      "C:/Users/Mayuri Gupta/cvpr2019_Pyramid-Feature-Attention-Network-for-Saliency-detection-master/Train Images/Original Images\\img3.jpg\n",
      "C:/Users/Mayuri Gupta/cvpr2019_Pyramid-Feature-Attention-Network-for-Saliency-detection-master/Train Images/Original Images\\img4.jpg\n",
      "C:/Users/Mayuri Gupta/cvpr2019_Pyramid-Feature-Attention-Network-for-Saliency-detection-master/Train Images/Original Images\\img5.jpg\n",
      "C:/Users/Mayuri Gupta/cvpr2019_Pyramid-Feature-Attention-Network-for-Saliency-detection-master/Train Images/Original Images\\img57.jpg\n",
      "C:/Users/Mayuri Gupta/cvpr2019_Pyramid-Feature-Attention-Network-for-Saliency-detection-master/Train Images/Original Images\\img6.jpg\n",
      "C:/Users/Mayuri Gupta/cvpr2019_Pyramid-Feature-Attention-Network-for-Saliency-detection-master/Train Images/Original Images\\img7.jpg\n",
      "C:/Users/Mayuri Gupta/cvpr2019_Pyramid-Feature-Attention-Network-for-Saliency-detection-master/Train Images/Original Images\\img8.jpg\n",
      "C:/Users/Mayuri Gupta/cvpr2019_Pyramid-Feature-Attention-Network-for-Saliency-detection-master/Train Images/Original Images\\img9.jpg\n"
     ]
    }
   ],
   "source": [
    "f = open('train_pair.txt', 'r')\n",
    "trainlist = f.readlines()\n",
    "f.close()\n",
    "for name in trainlist:\n",
    "    p = name.strip('\\r\\n').split('&')\n",
    "    img_path = p[0]\n",
    "    mask_path = p[1]\n",
    "    print(img_path)"
   ]
  }
 ],
 "metadata": {
  "kernelspec": {
   "display_name": "Python 3",
   "language": "python",
   "name": "python3"
  },
  "language_info": {
   "codemirror_mode": {
    "name": "ipython",
    "version": 3
   },
   "file_extension": ".py",
   "mimetype": "text/x-python",
   "name": "python",
   "nbconvert_exporter": "python",
   "pygments_lexer": "ipython3",
   "version": "3.7.6"
  }
 },
 "nbformat": 4,
 "nbformat_minor": 4
}
