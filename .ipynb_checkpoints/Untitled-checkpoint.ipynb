{
 "cells": [
  {
   "cell_type": "code",
   "execution_count": 15,
   "metadata": {},
   "outputs": [],
   "source": [
    "import os\n",
    "\n",
    "dataset_root_original=\"C:/Users/Mayuri Gupta/cvpr2019_Pyramid-Feature-Attention-Network-for-Saliency-detection-master/Train Images/Original Images\"\n",
    "dataset_root_mask = \"C:/Users/Mayuri Gupta/cvpr2019_Pyramid-Feature-Attention-Network-for-Saliency-detection-master/Train Images/binary mask images\"\n",
    "\n",
    "img_list_original = []\n",
    "img_list_mask = []\n",
    "\n",
    "def check_num_images():\n",
    "    jpg_count = 0\n",
    "    gt_count = 0\n",
    "    \n",
    "    for root, dirs, files in os.walk(dataset_root_original):\n",
    "        for fname in files:\n",
    "            print(\"h\")\n",
    "            img_path = os.path.join(dataset_root_original, fname)\n",
    "            img_list_original.append(img_path)\n",
    "\t\t\t#if 'jpg' in fname:\n",
    "\t\t\t#\tjpg_count+=1\n",
    "\t\t\t#if 'png' in fname:\n",
    "\t\t\t\t#gt_count+=1\n",
    "    for root, dirs, files in os.walk(dataset_root_mask):\n",
    "        for fname in files:\n",
    "            img_path = os.path.join(dataset_root_mask, fname)\n",
    "            img_list_mask.append(img_path)\n",
    "\n",
    "\t#print (\"num of images: {}, num of GT maps: {}\".format(jpg_count, gt_count))\n",
    "\n",
    "#check_num_images()\n",
    "\n",
    "with open(\"train_pair.txt\", 'w+') as fout:\n",
    "\tfor i in range(0,len(img_list_mask)):\n",
    "\t\t#img_path = os.path.join(dataset_root, img)\n",
    "\t\tfout.write(f'{img_list_mask[i]} {img_list_original[i]}\\n')"
   ]
  },
  {
   "cell_type": "code",
   "execution_count": 7,
   "metadata": {},
   "outputs": [
    {
     "name": "stdout",
     "output_type": "stream",
     "text": [
      "\n"
     ]
    }
   ],
   "source": [
    "fname=\"img0\"\n",
    "print(fname[:-4])"
   ]
  }
 ],
 "metadata": {
  "kernelspec": {
   "display_name": "Python 3",
   "language": "python",
   "name": "python3"
  },
  "language_info": {
   "codemirror_mode": {
    "name": "ipython",
    "version": 3
   },
   "file_extension": ".py",
   "mimetype": "text/x-python",
   "name": "python",
   "nbconvert_exporter": "python",
   "pygments_lexer": "ipython3",
   "version": "3.7.6"
  }
 },
 "nbformat": 4,
 "nbformat_minor": 4
}
